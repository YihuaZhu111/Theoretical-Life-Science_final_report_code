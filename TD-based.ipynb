{
 "cells": [
  {
   "cell_type": "code",
   "execution_count": 1,
   "metadata": {},
   "outputs": [],
   "source": [
    "import numpy as np\n",
    "import matplotlib.pyplot as plt\n",
    "import decimal\n",
    "import pandas as pd"
   ]
  },
  {
   "cell_type": "markdown",
   "metadata": {},
   "source": [
    "# if you want to test simple maze, please run this module"
   ]
  },
  {
   "cell_type": "code",
   "execution_count": 2,
   "metadata": {},
   "outputs": [],
   "source": [
    "simple_maze = [[9, 9, 9, 9, 9, 9, 9, 9, 9, 9, 9, 9],\n",
    "               [9, 1, 0, 9, 0, 0, 0, 0, 0, 0, 0, 9],\n",
    "               [9, 0, 0, 9, 0, 9, 0, 0, 9, 9, 0, 9],\n",
    "               [9, 9, 0, 9, 0, 9, 9, 9, 9, 0, 0, 9],\n",
    "               [9, 0, 0, 0, 0, 0, 9, 0, 0, 0, 0, 9],\n",
    "               [9, 0, 0, 0, 0, 0, 9, 0, 0, 0, 0, 9],\n",
    "               [9, 9, 9, 9, 9, 0, 9, 0, 9, 0, 0, 9],\n",
    "               [9, 0, 0, 0, 0, 0, 9, 0, 9, 0, 0, 9],\n",
    "               [9, 0, 9, 9, 9, 9, 9, 0, 9, 0, 0, 9],\n",
    "               [9, 0, 0, 0, 0, 9, 0, 0, 9, 0, 0, 9],\n",
    "               [9, 0, 0, 9, 0, 0, 0, 0, 9, 0,-1, 9],\n",
    "               [9, 9, 9, 9, 9, 9, 9, 9, 9, 9, 9, 9]]\n",
    "\n",
    "maze = np.array(simple_maze)"
   ]
  },
  {
   "cell_type": "markdown",
   "metadata": {},
   "source": [
    "# if you want to test complex maze, please run this module"
   ]
  },
  {
   "cell_type": "code",
   "execution_count": null,
   "metadata": {},
   "outputs": [],
   "source": [
    "complex_maze = [[9, 9, 9, 9, 9, 9, 9, 9, 9, 9, 9, 9, 9, 9, 9, 9, 9, 9, 9, 9, 9, 9, 9, 9, 9, 9 ,9 ,9 ,9 ,9 ,9, 9, 9, 9, 9, 9, 9, 9],\n",
    "                [9, 1, 0, 0, 0, 0, 0, 0, 0, 9, 0, 0, 9, 9, 0, 0, 0, 0, 0, 0, 0, 0, 0, 0, 0, 0, 0, 0, 0, 0, 0, 0, 0, 0, 0, 0, 0, 9],\n",
    "                [9, 0, 9, 9 ,9, 9, 9, 9, 9, 9, 0, 0, 9, 9, 9, 9, 9, 9, 9, 9, 9, 9, 9, 9, 0, 9, 9, 9, 9, 9, 9, 9, 9, 0, 9, 9, 9, 9],\n",
    "                [9, 0, 9, 9 ,9, 9, 9, 9, 9, 9, 0, 0, 9, 9, 9, 9, 9, 9, 9, 9, 9, 9, 9, 9, 0, 9, 9, 9, 9, 9, 9, 9, 9, 0, 9, 9, 9, 9],\n",
    "                [9, 0, 9, 9 ,9, 9, 9, 9, 9, 9, 0, 0, 9, 9, 9, 9, 9, 9, 9, 9, 9, 9, 9, 9, 0, 9, 9, 9, 9, 9, 9, 9, 9, 0, 9, 9, 9, 9],\n",
    "                [9, 0, 0, 0, 0, 0, 0, 9, 9, 9, 0, 0, 0, 0, 0, 0, 0, 0, 0, 0, 0, 9, 9, 9, 0, 9, 9, 9, 0, 0, 0, 0, 0, 0, 0, 0, 0, 9],\n",
    "                [9, 0, 0, 0, 0, 0, 0, 9, 9, 9, 0, 9, 9, 9, 9, 9, 9, 9, 0, 9, 9, 9, 9, 9, 0, 9, 9, 9, 0, 9, 9, 9, 9, 9, 9, 9, 0, 9],\n",
    "                [9, 0, 0, 0, 0, 0, 0, 9, 9, 9, 0, 9, 9, 9, 9, 9, 9, 9, 0, 9, 9, 9, 9, 9, 0, 9, 9, 9, 0, 9, 9, 9, 9, 9, 9, 9, 0, 9],\n",
    "                [9, 9, 9, 9, 9, 9, 0, 9, 9, 9, 0, 9, 9, 9, 9, 9, 9, 9, 0, 9, 9, 9, 9, 9, 0, 9, 9, 9, 0, 9, 9, 9, 9, 9, 9, 9, 0, 9],\n",
    "                [9, 9, 9, 9, 9, 9, 0, 9, 9, 9, 0, 0, 0, 0, 0, 9, 9, 9, 0, 9, 9, 9, 0, 0, 0, 9, 9, 9, 0, 0, 0, 0, 0, 9, 9, 9, 9, 9],\n",
    "                [9, 9, 9, 9, 9, 9, 0, 9, 9, 9, 0, 0, 0, 0, 0, 9, 9, 9, 0, 9, 9, 9, 0, 9, 9, 9, 9, 9, 9, 9, 9, 9, 0, 9, 9, 9, 9, 9],\n",
    "                [9, 0, 0, 9, 9, 9, 0, 9, 9, 9, 0, 0, 0, 0, 0, 9, 9, 9, 0, 9, 9, 9, 0, 9, 9, 9, 9, 9, 9, 9, 9, 9, 0, 9, 9, 9, 9, 9],\n",
    "                [9, 0, 0, 9, 9, 9, 0, 9, 9, 9, 0, 9, 9, 9, 0, 9, 9, 9, 0, 9, 9, 9, 0, 0, 0, 0, 0, 0, 0, 0, 0, 0, 0, 0, 0, 0, 0, 9],\n",
    "                [9, 0, 0, 9, 9, 9, 0, 9, 9, 9, 0, 9, 9, 9, 0, 9, 9, 9, 0, 9, 9, 9, 0, 9, 9, 9, 9, 9, 9, 9, 9, 9, 9, 9, 9, 9, 0, 9],\n",
    "                [9, 0, 0, 9, 9, 9, 0, 9, 9, 9, 0, 9, 9, 9, 0, 9, 9, 9, 0, 9, 9, 9, 0, 9, 9, 9, 9, 9, 9, 9, 9, 9, 9, 9, 9, 9, 0, 9],\n",
    "                [9, 0, 0, 9, 9, 9, 0, 9, 9, 9, 0, 9, 9, 9, 0, 9, 9, 9, 0, 9, 9, 9, 0, 9, 9, 9, 9, 9, 9, 9, 9, 9, 9, 9, 9, 9, 0, 9],\n",
    "                [9, 0, 0, 9, 9, 9, 0, 0, 0, 0, 0, 9, 9, 9, 0, 9, 9, 9, 9, 9, 9, 9, 0, 9, 9, 9, 0, 0, 0, 0, 0, 0, 0, 9, 9, 9, 0, 9],\n",
    "                [9, 0, 0, 9, 9, 9, 0, 0, 0, 0, 0, 9, 9, 9, 0, 0, 0, 0, 0, 0, 0, 0, 0, 9, 9, 9, 0, 9, 9, 9, 9, 9, 9, 9, 9, 9, 0, 9],\n",
    "                [9, 0, 0, 9, 9, 9, 9, 9, 9, 9, 9, 9, 9, 9, 0, 9, 9, 9, 9, 9, 9, 9, 0, 9, 9, 9, 0, 9, 9, 9, 9, 9, 9, 9, 9, 9, 0, 9],\n",
    "                [9, 0, 0, 9, 9, 9, 9, 9, 9, 9, 9, 9, 9, 9, 0, 9, 9, 9, 9, 9, 9, 9, 0, 9, 9, 9, 0, 9, 9, 9, 9, 9, 9, 9, 9, 9, 0, 9],\n",
    "                [9, 0, 0, 9, 9, 9, 9, 9, 9, 9, 9, 9, 9, 9, 0, 9, 9, 9, 9, 9, 9, 9, 0, 9, 9, 9, 0, 9, 9, 9, 9, 9, 9, 9, 9, 9, 0, 9],\n",
    "                [9, 0, 0, 0, 0, 0, 0, 0, 0, 0, 0, 0, 0, 0, 0, 9, 9, 9, 0, 0, 0, 0, 0, 9, 9, 9, 0, 9, 9, 9, 0, 0, 0, 0, 0, 0, 0, 9],\n",
    "                [9, 9, 9, 9, 9, 9, 0, 9, 9, 9, 9, 9, 9, 9, 0, 9, 9, 9, 0, 0, 0, 0, 0, 0, 0, 0, 0, 9, 9, 9, 0, 9, 9, 9, 9, 9, 0, 9],\n",
    "                [9, 9, 9, 9, 9, 9, 0, 9, 9, 9, 9, 9, 9, 9, 0, 9, 9, 9, 9, 9, 9, 9, 0, 9, 9, 9, 9, 9, 9, 9, 0, 9, 9, 9, 9, 9, 0, 9],\n",
    "                [9, 9, 9, 9, 9, 9, 0, 9, 9, 9, 9, 9, 9, 9, 0, 9, 9, 9, 9, 9, 9, 9, 0, 9, 9, 9, 9, 9, 9, 9, 0, 9, 9, 9, 9, 9, 0, 9], \n",
    "                [9, 0, 0, 9, 9, 9, 0, 9, 9, 9, 0, 0, 0, 0, 0, 0, 0, 0, 0, 9, 9, 9, 0, 9, 9, 9, 0, 9, 9, 9, 0, 9, 9, 9, 0, 0, 0, 9],\n",
    "                [9, 0, 0, 9, 9, 9, 0, 9, 9, 9, 0, 0, 0, 0, 0, 0, 0, 0, 0, 9, 9, 9, 0, 9, 9, 9, 0, 9, 9, 9, 0, 9, 9, 9, 0, 0, 0, 9],\n",
    "                [9, 0, 0, 9, 9, 9, 0, 9, 9, 9, 0, 9, 9, 9, 9, 9, 9, 9, 0, 9, 9, 9, 0, 9, 9, 9, 0, 9, 9, 9, 0, 9, 9, 9, 0, 0, 0, 9],\n",
    "                [9, 0, 0, 9, 9, 9, 0, 9, 9, 9, 0, 9, 9, 9, 9, 9, 9, 9, 0, 0, 0, 0, 0, 0, 0, 0, 0, 9, 9, 9, 0, 9, 9, 9, 0, 0, 0, 9],\n",
    "                [9, 0, 0, 9, 9, 9, 0, 9, 9, 9, 0, 9, 9, 9, 9, 9, 9, 9, 9, 9, 9, 9, 9, 9, 9, 9, 0, 9, 9, 9, 0, 9, 9, 9, 9, 9, 9, 9],\n",
    "                [9, 0, 0, 9, 9, 9, 0, 9, 9, 9, 0, 0, 0, 0, 0, 9, 9, 9, 9, 9, 9, 9, 9, 9, 9, 9, 0, 9, 9, 9, 0, 9, 9, 9, 9, 9, 9, 9],\n",
    "                [9, 0, 0, 9, 9, 9, 0, 9, 9, 9, 9, 9, 9, 9, 0, 9, 9, 9, 9, 9, 9, 9, 9, 9, 9, 9, 0, 9, 9, 9, 0, 0, 0, 0, 0, 0, 0, 9],\n",
    "                [9, 0, 0, 9, 9, 9, 0, 9, 9, 9, 9, 9, 9, 9, 0, 9, 9, 9, 0, 0, 0, 0, 0, 9, 9, 9, 9, 9, 9, 9, 9, 9, 9, 9, 9, 9, 0, 9],\n",
    "                [9, 0, 0, 9, 9, 9, 0, 9, 9, 9, 9, 9, 9, 9, 0, 9, 9, 9, 0, 0, 0, 0, 0, 9, 9, 9, 9, 9, 9, 9, 9, 9, 9, 9, 9, 9, 0, 9],\n",
    "                [9, 0, 0, 0, 0, 0, 0, 0, 0, 0, 0, 0, 0, 0, 0, 9, 9, 9, 0, 0, 0, 0, 0, 9, 9, 9, 9, 9, 9, 9, 9, 9, 9, 9, 9, 9, 0, 9],\n",
    "                [9, 0, 0, 0, 0, 0, 0, 0, 0, 0, 0, 0, 0, 0, 0, 9, 9, 9, 0, 0, 0, 0, 0, 9, 9, 9, 9, 9, 9, 9, 9, 9, 9, 9, 9, 9, 0, 9],\n",
    "                [9, 0, 0, 0, 0, 0, 0, 0, 0, 0, 0, 0, 0, 0, 0, 9, 9, 9, 0, 0, 0, 0, 0, 0, 0, 0, 0, 0, 0, 0, 0, 0, 0, 0, 0, 0,-1, 9],\n",
    "                [9, 9, 9, 9, 9, 9, 9, 9, 9, 9, 9, 9, 9, 9, 9, 9, 9, 9, 9, 9, 9, 9, 9, 9, 9, 9, 9, 9, 9, 9, 9, 9, 9, 9, 9, 9, 9, 9]]\n",
    "\n",
    "maze = np.array(complex_maze)"
   ]
  },
  {
   "cell_type": "markdown",
   "metadata": {},
   "source": [
    "# Main algrithm"
   ]
  },
  {
   "cell_type": "markdown",
   "metadata": {},
   "source": [
    "## you can change different epsilon here from 0.05 to 0.95."
   ]
  },
  {
   "cell_type": "code",
   "execution_count": 3,
   "metadata": {},
   "outputs": [],
   "source": [
    "# you can change different epsilon here from 0.05 to 0.95.\n",
    "\n",
    "epsilon = 0.4\n",
    "alpha = 0.05\n",
    "gamma = 0.95\n",
    "start_position = [1, 1]"
   ]
  },
  {
   "cell_type": "code",
   "execution_count": 4,
   "metadata": {},
   "outputs": [],
   "source": [
    "def reward(state):\n",
    "   if maze[state[0],state[1]] == -1:\n",
    "       reward = 1 \n",
    "   else: \n",
    "       reward = 0 \n",
    "   return reward\n",
    "\n",
    "def processes(x,y): \n",
    "   process = []\n",
    "   if maze[x-1,y] != 9:\n",
    "      process.append([x- 1,y]) \n",
    "   if maze[x+1,y] != 9:\n",
    "      process.append([x+ 1,y]) \n",
    "   if maze[x,y-1] != 9:\n",
    "      process.append([x,y- 1]) \n",
    "   if maze[x,y+1] != 9:\n",
    "      process.append([x,y+ 1])   \n",
    "   return process\n",
    "\n",
    "def episode(TD_V): \n",
    "   count = 0 \n",
    "   state = start_position\n",
    "\n",
    "   while maze[state[0], state[1]] != -1: \n",
    "      x,y = state\n",
    "      next_state = []\n",
    "      next_process = processes(x,y)\n",
    "      \n",
    "      if np.random.binomial(1, epsilon) == 1:\n",
    "         situation_1 = np.random.randint(0, len(next_process))\n",
    "         next_state = next_process[situation_1]\n",
    "      else:\n",
    "         values = [TD_V[state[0]-1,state[1]], TD_V[state[0]+1,state[1]], TD_V[state[0],state[1]-1], TD_V[state[0],state[1]+1]]\n",
    "         state_1 = [st for st in next_process if TD_V[st[0],st[1]] == np.max(values)]\n",
    "         situation_2 = np.random.randint(0, len(state_1))\n",
    "         next_state = state_1[situation_2]\n",
    "   \n",
    "      TD_V[state[0],state[1]] += alpha*(reward(next_state) + gamma * TD_V[next_state[0], next_state[1]] - TD_V[state[0],state[1]])\n",
    "      state = next_state\n",
    "      count += 1\n",
    "   return count"
   ]
  },
  {
   "cell_type": "code",
   "execution_count": 5,
   "metadata": {},
   "outputs": [],
   "source": [
    "def TD():\n",
    "    TD_V = np.zeros((len(maze),len(maze[1]))) \n",
    "    episode_limit = 500\n",
    "    motion_steps = []\n",
    "    motion_mean = []\n",
    "    episode_real = 0\n",
    "    while episode_real < episode_limit:\n",
    "        motion_steps.append(episode(TD_V))\n",
    "        if episode_real % 10 == 0 and episode_real != 0:\n",
    "           motion_mean.append(np.mean(motion_steps[episode_real - 10: episode_real]))\n",
    "        episode_real += 1\n",
    "    motion_mean = np.array(motion_mean)\n",
    "    x_axis = [x * 10 for x in range(1, 50)]\n",
    "    plt.figure()\n",
    "    plt.grid()\n",
    "    plt.title('epsilon = 0.4')\n",
    "    plt.plot(x_axis, motion_mean, color='r')\n",
    "    plt.xlabel('time steps')\n",
    "    plt.ylabel('episodes')\n",
    "    plt.show()\n",
    "    print(motion_steps)\n",
    "    return TD_V"
   ]
  },
  {
   "cell_type": "code",
   "execution_count": 6,
   "metadata": {},
   "outputs": [
    {
     "data": {
      "image/png": "[encoded data removed]",
      "text/plain": [
       "<Figure size 432x288 with 1 Axes>"
      ]
     },
     "metadata": {
      "needs_background": "light"
     },
     "output_type": "display_data"
    },
    {
     "name": "stdout",
     "output_type": "stream",
     "text": [
      "[402, 582, 728, 818, 1440, 380, 516, 1568, 258, 102, 78, 578, 194, 656, 526, 170, 134, 148, 70, 90, 74, 136, 48, 76, 62, 58, 40, 38, 36, 52, 62, 38, 44, 88, 38, 90, 40, 42, 48, 86, 40, 64, 66, 52, 36, 86, 72, 62, 94, 76, 80, 34, 54, 72, 100, 56, 60, 72, 78, 116, 40, 58, 56, 52, 52, 64, 38, 48, 34, 92, 54, 40, 44, 54, 102, 48, 60, 100, 62, 66, 64, 100, 40, 56, 54, 40, 60, 60, 46, 72, 80, 62, 44, 44, 32, 78, 56, 52, 84, 44, 92, 90, 46, 68, 46, 64, 56, 66, 60, 46, 62, 44, 64, 68, 42, 74, 68, 54, 50, 50, 60, 92, 38, 60, 36, 68, 60, 54, 100, 70, 76, 112, 44, 42, 78, 66, 110, 32, 62, 86, 90, 52, 42, 40, 54, 52, 34, 44, 38, 74, 60, 40, 104, 82, 64, 54, 48, 54, 42, 64, 94, 88, 76, 90, 62, 56, 96, 64, 46, 52, 56, 48, 74, 46, 44, 60, 54, 46, 60, 60, 48, 86, 48, 72, 44, 48, 32, 72, 42, 118, 54, 34, 66, 56, 60, 52, 50, 46, 44, 38, 78, 44, 46, 36, 44, 34, 40, 52, 62, 58, 114, 42, 84, 86, 148, 58, 52, 66, 36, 34, 44, 38, 36, 28, 64, 62, 44, 80, 56, 34, 64, 56, 52, 32, 48, 30, 112, 48, 74, 36, 48, 54, 46, 86, 58, 42, 48, 48, 46, 74, 66, 44, 50, 78, 60, 34, 50, 98, 78, 56, 100, 60, 48, 70, 48, 40, 96, 46, 84, 56, 62, 40, 108, 36, 50, 40, 60, 44, 52, 74, 36, 60, 84, 44, 46, 52, 44, 40, 60, 72, 44, 44, 44, 36, 48, 74, 40, 58, 46, 58, 50, 68, 30, 80, 60, 46, 120, 40, 54, 50, 32, 36, 32, 74, 38, 58, 42, 38, 50, 50, 38, 50, 56, 52, 50, 38, 86, 52, 88, 58, 52, 56, 100, 46, 48, 58, 40, 72, 64, 50, 56, 56, 60, 94, 46, 82, 54, 86, 60, 34, 68, 60, 52, 82, 50, 52, 62, 50, 62, 64, 42, 46, 44, 74, 72, 52, 66, 88, 34, 54, 28, 72, 70, 42, 40, 68, 42, 60, 28, 54, 44, 66, 50, 78, 46, 52, 42, 30, 42, 50, 36, 70, 48, 46, 40, 38, 38, 64, 110, 60, 72, 62, 56, 34, 38, 42, 34, 36, 48, 68, 42, 58, 44, 42, 48, 66, 46, 42, 40, 88, 38, 46, 72, 40, 76, 62, 34, 48, 66, 84, 50, 56, 46, 64, 70, 38, 38, 62, 84, 54, 48, 58, 58, 28, 46, 36, 80, 42, 66, 78, 68, 46, 64, 48, 54, 34, 48, 62, 56, 26, 34, 74, 42, 44, 46, 36, 44, 78, 62, 58, 38, 36, 36, 66, 44, 48, 50, 60, 60, 64, 46, 44, 46, 34, 50, 48, 48, 64, 42, 44, 46, 74, 60, 48, 40, 48, 36, 52, 46, 58]\n"
     ]
    }
   ],
   "source": [
    "TD_V_result = TD()"
   ]
  },
  {
   "cell_type": "markdown",
   "metadata": {},
   "source": [
    "# if you want to test simple maze, please run this module"
   ]
  },
  {
   "cell_type": "code",
   "execution_count": 7,
   "metadata": {},
   "outputs": [
    {
     "name": "stdout",
     "output_type": "stream",
     "text": [
      "[[0.    0.    0.    0.    0.    0.    0.    0.    0.    0.    0.    0.   ]\n",
      " [0.    0.022 0.023 0.    0.122 0.133 0.146 0.172 0.205 0.23  0.252 0.   ]\n",
      " [0.    0.027 0.032 0.    0.109 0.    0.125 0.136 0.    0.    0.284 0.   ]\n",
      " [0.    0.    0.038 0.    0.094 0.    0.    0.    0.    0.271 0.318 0.   ]\n",
      " [0.    0.022 0.046 0.06  0.073 0.039 0.    0.    0.098 0.272 0.367 0.   ]\n",
      " [0.    0.004 0.024 0.038 0.043 0.017 0.    0.    0.035 0.338 0.416 0.   ]\n",
      " [0.    0.    0.    0.    0.    0.    0.    0.    0.    0.442 0.462 0.   ]\n",
      " [0.    0.    0.    0.    0.    0.    0.    0.    0.    0.51  0.52  0.   ]\n",
      " [0.    0.    0.    0.    0.    0.    0.    0.    0.    0.578 0.58  0.   ]\n",
      " [0.    0.    0.    0.    0.    0.    0.    0.    0.    0.647 0.649 0.   ]\n",
      " [0.    0.    0.    0.    0.    0.    0.    0.    0.    0.701 0.    0.   ]\n",
      " [0.    0.    0.    0.    0.    0.    0.    0.    0.    0.    0.    0.   ]]\n"
     ]
    }
   ],
   "source": [
    "# for simple maze, we do not need to output a csv file to get the accuracy result, we can simplely print it\n",
    "\n",
    "for i in range(len(maze)):\n",
    "    for j in range(len(maze[1])):\n",
    "        TD_V_result[i, j] = decimal.Decimal(TD_V_result[i,j]).quantize(decimal.Decimal(\"0.001\"))\n",
    "print(TD_V_result)"
   ]
  },
  {
   "cell_type": "markdown",
   "metadata": {},
   "source": [
    "# if you want to test complex maze and get the final csv result, please run this module, and please **do not run** the upper simple mudule, otherwise you cannot get precise result"
   ]
  },
  {
   "cell_type": "code",
   "execution_count": null,
   "metadata": {},
   "outputs": [],
   "source": [
    "# for complex maze, we need to output a csv file to get the accuracy result\n",
    "# if you choose complex maze, please run this module\n",
    "\n",
    "for i in range(len(maze)):\n",
    "  for j in range(len(maze[1])):\n",
    "      TD_V_result[i,j] = decimal.Decimal(TD_V_result[i,j]).quantize(decimal.Decimal(\"0.0000000000000000000000000001\"))\n",
    "\n",
    "# output csv file\n",
    "\n",
    "column = np.arange(38)\n",
    "TD_V_RESULT = pd.DataFrame(columns = column, data = TD_V_result)\n",
    "TD_V_RESULT.to_csv('TD_based_complex_maze_result.csv')"
   ]
  }
 ],
 "metadata": {
  "kernelspec": {
   "display_name": "Python 3.9.7 ('sklearn-env')",
   "language": "python",
   "name": "python3"
  },
  "language_info": {
   "codemirror_mode": {
    "name": "ipython",
    "version": 3
   },
   "file_extension": ".py",
   "mimetype": "text/x-python",
   "name": "python",
   "nbconvert_exporter": "python",
   "pygments_lexer": "ipython3",
   "version": "3.9.7"
  },
  "orig_nbformat": 4,
  "vscode": {
   "interpreter": {
    "hash": "8813998d5ecce17ed91e012fe29b3a7c2089f4157e199529a0ecd692b44d3643"
   }
  }
 },
 "nbformat": 4,
 "nbformat_minor": 2
}
