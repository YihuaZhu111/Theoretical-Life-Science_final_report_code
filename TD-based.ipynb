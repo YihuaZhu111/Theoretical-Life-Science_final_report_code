{
 "cells": [
  {
   "cell_type": "code",
   "execution_count": 1,
   "metadata": {},
   "outputs": [],
   "source": [
    "import numpy as np\n",
    "import matplotlib.pyplot as plt\n",
    "import decimal\n",
    "import pandas as pd"
   ]
  },
  {
   "cell_type": "markdown",
   "metadata": {},
   "source": [
    "# if you want to test simple maze, please run this module"
   ]
  },
  {
   "cell_type": "code",
   "execution_count": null,
   "metadata": {},
   "outputs": [],
   "source": [
    "simple_maze = [[9, 9, 9, 9, 9, 9, 9, 9, 9, 9, 9, 9],\n",
    "               [9, 1, 0, 9, 0, 0, 0, 0, 0, 0, 0, 9],\n",
    "               [9, 0, 0, 9, 0, 9, 0, 0, 9, 9, 0, 9],\n",
    "               [9, 9, 0, 9, 0, 9, 9, 9, 9, 0, 0, 9],\n",
    "               [9, 0, 0, 0, 0, 0, 9, 0, 0, 0, 0, 9],\n",
    "               [9, 0, 0, 0, 0, 0, 9, 0, 0, 0, 0, 9],\n",
    "               [9, 9, 9, 9, 9, 0, 9, 0, 9, 0, 0, 9],\n",
    "               [9, 0, 0, 0, 0, 0, 9, 0, 9, 0, 0, 9],\n",
    "               [9, 0, 9, 9, 9, 9, 9, 0, 9, 0, 0, 9],\n",
    "               [9, 0, 0, 0, 0, 9, 0, 0, 9, 0, 0, 9],\n",
    "               [9, 0, 0, 9, 0, 0, 0, 0, 9, 0,-1, 9],\n",
    "               [9, 9, 9, 9, 9, 9, 9, 9, 9, 9, 9, 9]]\n",
    "\n",
    "maze = np.array(simple_maze)"
   ]
  },
  {
   "cell_type": "markdown",
   "metadata": {},
   "source": [
    "# if you want to test complex maze, please run this module"
   ]
  },
  {
   "cell_type": "code",
   "execution_count": 2,
   "metadata": {},
   "outputs": [],
   "source": [
    "complex_maze = [[9, 9, 9, 9, 9, 9, 9, 9, 9, 9, 9, 9, 9, 9, 9, 9, 9, 9, 9, 9, 9, 9, 9, 9, 9, 9 ,9 ,9 ,9 ,9 ,9, 9, 9, 9, 9, 9, 9, 9],\n",
    "                [9, 1, 0, 0, 0, 0, 0, 0, 0, 9, 0, 0, 9, 9, 0, 0, 0, 0, 0, 0, 0, 0, 0, 0, 0, 0, 0, 0, 0, 0, 0, 0, 0, 0, 0, 0, 0, 9],\n",
    "                [9, 0, 9, 9 ,9, 9, 9, 9, 9, 9, 0, 0, 9, 9, 9, 9, 9, 9, 9, 9, 9, 9, 9, 9, 0, 9, 9, 9, 9, 9, 9, 9, 9, 0, 9, 9, 9, 9],\n",
    "                [9, 0, 9, 9 ,9, 9, 9, 9, 9, 9, 0, 0, 9, 9, 9, 9, 9, 9, 9, 9, 9, 9, 9, 9, 0, 9, 9, 9, 9, 9, 9, 9, 9, 0, 9, 9, 9, 9],\n",
    "                [9, 0, 9, 9 ,9, 9, 9, 9, 9, 9, 0, 0, 9, 9, 9, 9, 9, 9, 9, 9, 9, 9, 9, 9, 0, 9, 9, 9, 9, 9, 9, 9, 9, 0, 9, 9, 9, 9],\n",
    "                [9, 0, 0, 0, 0, 0, 0, 9, 9, 9, 0, 0, 0, 0, 0, 0, 0, 0, 0, 0, 0, 9, 9, 9, 0, 9, 9, 9, 0, 0, 0, 0, 0, 0, 0, 0, 0, 9],\n",
    "                [9, 0, 0, 0, 0, 0, 0, 9, 9, 9, 0, 9, 9, 9, 9, 9, 9, 9, 0, 9, 9, 9, 9, 9, 0, 9, 9, 9, 0, 9, 9, 9, 9, 9, 9, 9, 0, 9],\n",
    "                [9, 0, 0, 0, 0, 0, 0, 9, 9, 9, 0, 9, 9, 9, 9, 9, 9, 9, 0, 9, 9, 9, 9, 9, 0, 9, 9, 9, 0, 9, 9, 9, 9, 9, 9, 9, 0, 9],\n",
    "                [9, 9, 9, 9, 9, 9, 0, 9, 9, 9, 0, 9, 9, 9, 9, 9, 9, 9, 0, 9, 9, 9, 9, 9, 0, 9, 9, 9, 0, 9, 9, 9, 9, 9, 9, 9, 0, 9],\n",
    "                [9, 9, 9, 9, 9, 9, 0, 9, 9, 9, 0, 0, 0, 0, 0, 9, 9, 9, 0, 9, 9, 9, 0, 0, 0, 9, 9, 9, 0, 0, 0, 0, 0, 9, 9, 9, 9, 9],\n",
    "                [9, 9, 9, 9, 9, 9, 0, 9, 9, 9, 0, 0, 0, 0, 0, 9, 9, 9, 0, 9, 9, 9, 0, 9, 9, 9, 9, 9, 9, 9, 9, 9, 0, 9, 9, 9, 9, 9],\n",
    "                [9, 0, 0, 9, 9, 9, 0, 9, 9, 9, 0, 0, 0, 0, 0, 9, 9, 9, 0, 9, 9, 9, 0, 9, 9, 9, 9, 9, 9, 9, 9, 9, 0, 9, 9, 9, 9, 9],\n",
    "                [9, 0, 0, 9, 9, 9, 0, 9, 9, 9, 0, 9, 9, 9, 0, 9, 9, 9, 0, 9, 9, 9, 0, 0, 0, 0, 0, 0, 0, 0, 0, 0, 0, 0, 0, 0, 0, 9],\n",
    "                [9, 0, 0, 9, 9, 9, 0, 9, 9, 9, 0, 9, 9, 9, 0, 9, 9, 9, 0, 9, 9, 9, 0, 9, 9, 9, 9, 9, 9, 9, 9, 9, 9, 9, 9, 9, 0, 9],\n",
    "                [9, 0, 0, 9, 9, 9, 0, 9, 9, 9, 0, 9, 9, 9, 0, 9, 9, 9, 0, 9, 9, 9, 0, 9, 9, 9, 9, 9, 9, 9, 9, 9, 9, 9, 9, 9, 0, 9],\n",
    "                [9, 0, 0, 9, 9, 9, 0, 9, 9, 9, 0, 9, 9, 9, 0, 9, 9, 9, 0, 9, 9, 9, 0, 9, 9, 9, 9, 9, 9, 9, 9, 9, 9, 9, 9, 9, 0, 9],\n",
    "                [9, 0, 0, 9, 9, 9, 0, 0, 0, 0, 0, 9, 9, 9, 0, 9, 9, 9, 9, 9, 9, 9, 0, 9, 9, 9, 0, 0, 0, 0, 0, 0, 0, 9, 9, 9, 0, 9],\n",
    "                [9, 0, 0, 9, 9, 9, 0, 0, 0, 0, 0, 9, 9, 9, 0, 0, 0, 0, 0, 0, 0, 0, 0, 9, 9, 9, 0, 9, 9, 9, 9, 9, 9, 9, 9, 9, 0, 9],\n",
    "                [9, 0, 0, 9, 9, 9, 9, 9, 9, 9, 9, 9, 9, 9, 0, 9, 9, 9, 9, 9, 9, 9, 0, 9, 9, 9, 0, 9, 9, 9, 9, 9, 9, 9, 9, 9, 0, 9],\n",
    "                [9, 0, 0, 9, 9, 9, 9, 9, 9, 9, 9, 9, 9, 9, 0, 9, 9, 9, 9, 9, 9, 9, 0, 9, 9, 9, 0, 9, 9, 9, 9, 9, 9, 9, 9, 9, 0, 9],\n",
    "                [9, 0, 0, 9, 9, 9, 9, 9, 9, 9, 9, 9, 9, 9, 0, 9, 9, 9, 9, 9, 9, 9, 0, 9, 9, 9, 0, 9, 9, 9, 9, 9, 9, 9, 9, 9, 0, 9],\n",
    "                [9, 0, 0, 0, 0, 0, 0, 0, 0, 0, 0, 0, 0, 0, 0, 9, 9, 9, 0, 0, 0, 0, 0, 9, 9, 9, 0, 9, 9, 9, 0, 0, 0, 0, 0, 0, 0, 9],\n",
    "                [9, 9, 9, 9, 9, 9, 0, 9, 9, 9, 9, 9, 9, 9, 0, 9, 9, 9, 0, 0, 0, 0, 0, 0, 0, 0, 0, 9, 9, 9, 0, 9, 9, 9, 9, 9, 0, 9],\n",
    "                [9, 9, 9, 9, 9, 9, 0, 9, 9, 9, 9, 9, 9, 9, 0, 9, 9, 9, 9, 9, 9, 9, 0, 9, 9, 9, 9, 9, 9, 9, 0, 9, 9, 9, 9, 9, 0, 9],\n",
    "                [9, 9, 9, 9, 9, 9, 0, 9, 9, 9, 9, 9, 9, 9, 0, 9, 9, 9, 9, 9, 9, 9, 0, 9, 9, 9, 9, 9, 9, 9, 0, 9, 9, 9, 9, 9, 0, 9], \n",
    "                [9, 0, 0, 9, 9, 9, 0, 9, 9, 9, 0, 0, 0, 0, 0, 0, 0, 0, 0, 9, 9, 9, 0, 9, 9, 9, 0, 9, 9, 9, 0, 9, 9, 9, 0, 0, 0, 9],\n",
    "                [9, 0, 0, 9, 9, 9, 0, 9, 9, 9, 0, 0, 0, 0, 0, 0, 0, 0, 0, 9, 9, 9, 0, 9, 9, 9, 0, 9, 9, 9, 0, 9, 9, 9, 0, 0, 0, 9],\n",
    "                [9, 0, 0, 9, 9, 9, 0, 9, 9, 9, 0, 9, 9, 9, 9, 9, 9, 9, 0, 9, 9, 9, 0, 9, 9, 9, 0, 9, 9, 9, 0, 9, 9, 9, 0, 0, 0, 9],\n",
    "                [9, 0, 0, 9, 9, 9, 0, 9, 9, 9, 0, 9, 9, 9, 9, 9, 9, 9, 0, 0, 0, 0, 0, 0, 0, 0, 0, 9, 9, 9, 0, 9, 9, 9, 0, 0, 0, 9],\n",
    "                [9, 0, 0, 9, 9, 9, 0, 9, 9, 9, 0, 9, 9, 9, 9, 9, 9, 9, 9, 9, 9, 9, 9, 9, 9, 9, 0, 9, 9, 9, 0, 9, 9, 9, 9, 9, 9, 9],\n",
    "                [9, 0, 0, 9, 9, 9, 0, 9, 9, 9, 0, 0, 0, 0, 0, 9, 9, 9, 9, 9, 9, 9, 9, 9, 9, 9, 0, 9, 9, 9, 0, 9, 9, 9, 9, 9, 9, 9],\n",
    "                [9, 0, 0, 9, 9, 9, 0, 9, 9, 9, 9, 9, 9, 9, 0, 9, 9, 9, 9, 9, 9, 9, 9, 9, 9, 9, 0, 9, 9, 9, 0, 0, 0, 0, 0, 0, 0, 9],\n",
    "                [9, 0, 0, 9, 9, 9, 0, 9, 9, 9, 9, 9, 9, 9, 0, 9, 9, 9, 0, 0, 0, 0, 0, 9, 9, 9, 9, 9, 9, 9, 9, 9, 9, 9, 9, 9, 0, 9],\n",
    "                [9, 0, 0, 9, 9, 9, 0, 9, 9, 9, 9, 9, 9, 9, 0, 9, 9, 9, 0, 0, 0, 0, 0, 9, 9, 9, 9, 9, 9, 9, 9, 9, 9, 9, 9, 9, 0, 9],\n",
    "                [9, 0, 0, 0, 0, 0, 0, 0, 0, 0, 0, 0, 0, 0, 0, 9, 9, 9, 0, 0, 0, 0, 0, 9, 9, 9, 9, 9, 9, 9, 9, 9, 9, 9, 9, 9, 0, 9],\n",
    "                [9, 0, 0, 0, 0, 0, 0, 0, 0, 0, 0, 0, 0, 0, 0, 9, 9, 9, 0, 0, 0, 0, 0, 9, 9, 9, 9, 9, 9, 9, 9, 9, 9, 9, 9, 9, 0, 9],\n",
    "                [9, 0, 0, 0, 0, 0, 0, 0, 0, 0, 0, 0, 0, 0, 0, 9, 9, 9, 0, 0, 0, 0, 0, 0, 0, 0, 0, 0, 0, 0, 0, 0, 0, 0, 0, 0,-1, 9],\n",
    "                [9, 9, 9, 9, 9, 9, 9, 9, 9, 9, 9, 9, 9, 9, 9, 9, 9, 9, 9, 9, 9, 9, 9, 9, 9, 9, 9, 9, 9, 9, 9, 9, 9, 9, 9, 9, 9, 9]]\n",
    "\n",
    "maze = np.array(complex_maze)"
   ]
  },
  {
   "cell_type": "markdown",
   "metadata": {},
   "source": [
    "# Main algrithm"
   ]
  },
  {
   "cell_type": "markdown",
   "metadata": {},
   "source": [
    "## you can change different epsilon here from 0.05 to 0.95."
   ]
  },
  {
   "cell_type": "code",
   "execution_count": 3,
   "metadata": {},
   "outputs": [],
   "source": [
    "# you can change different epsilon here from 0.05 to 0.95.\n",
    "\n",
    "epsilon = 0.4\n",
    "alpha = 0.05\n",
    "gamma = 0.95\n",
    "start_position = [1, 1]"
   ]
  },
  {
   "cell_type": "code",
   "execution_count": 4,
   "metadata": {},
   "outputs": [],
   "source": [
    "def reward(state):\n",
    "   if maze[state[0],state[1]] == -1:\n",
    "       reward = 1 \n",
    "   else: \n",
    "       reward = 0 \n",
    "   return reward\n",
    "\n",
    "def processes(x,y): \n",
    "   process = []\n",
    "   if maze[x-1,y] != 9:\n",
    "      process.append([x- 1,y]) \n",
    "   if maze[x+1,y] != 9:\n",
    "      process.append([x+ 1,y]) \n",
    "   if maze[x,y-1] != 9:\n",
    "      process.append([x,y- 1]) \n",
    "   if maze[x,y+1] != 9:\n",
    "      process.append([x,y+ 1])   \n",
    "   return process\n",
    "\n",
    "def episode(TD_V): \n",
    "   count = 0 \n",
    "   state = start_position\n",
    "\n",
    "   while maze[state[0], state[1]] != -1: \n",
    "      x,y = state\n",
    "      next_state = []\n",
    "      next_process = processes(x,y)\n",
    "      \n",
    "      if np.random.binomial(1, epsilon) == 1:\n",
    "         situation_1 = np.random.randint(0, len(next_process))\n",
    "         next_state = next_process[situation_1]\n",
    "      else:\n",
    "         values = [TD_V[state[0]-1,state[1]], TD_V[state[0]+1,state[1]], TD_V[state[0],state[1]-1], TD_V[state[0],state[1]+1]]\n",
    "         state_1 = [st for st in next_process if TD_V[st[0],st[1]] == np.max(values)]\n",
    "         situation_2 = np.random.randint(0, len(state_1))\n",
    "         next_state = state_1[situation_2]\n",
    "   \n",
    "      TD_V[state[0],state[1]] += alpha*(reward(next_state) + gamma * TD_V[next_state[0], next_state[1]] - TD_V[state[0],state[1]])\n",
    "      state = next_state\n",
    "      count += 1\n",
    "   return count"
   ]
  },
  {
   "cell_type": "code",
   "execution_count": 5,
   "metadata": {},
   "outputs": [],
   "source": [
    "def TD():\n",
    "    TD_V = np.zeros((len(maze),len(maze[1]))) \n",
    "    episode_limit = 500\n",
    "    motion_steps = []\n",
    "    motion_mean = []\n",
    "    episode_real = 0\n",
    "    while episode_real < episode_limit:\n",
    "        motion_steps.append(episode(TD_V))\n",
    "        if episode_real % 10 == 0 and episode_real != 0:\n",
    "           motion_mean.append(np.mean(motion_steps[episode_real - 10: episode_real]))\n",
    "        episode_real += 1\n",
    "    motion_mean = np.array(motion_mean)\n",
    "    x_axis = [x * 10 for x in range(1, 50)]\n",
    "    plt.figure()\n",
    "    plt.grid()\n",
    "    plt.title('epsilon = 0.4')\n",
    "    plt.plot(x_axis, motion_mean, color='r')\n",
    "    plt.xlabel('time steps')\n",
    "    plt.ylabel('episodes')\n",
    "    plt.show()\n",
    "    print(motion_steps)\n",
    "    return TD_V"
   ]
  },
  {
   "cell_type": "code",
   "execution_count": 6,
   "metadata": {},
   "outputs": [
    {
     "data": {
      "image/png": "[encoded data removed]",
      "text/plain": [
       "<Figure size 432x288 with 1 Axes>"
      ]
     },
     "metadata": {
      "needs_background": "light"
     },
     "output_type": "display_data"
    },
    {
     "name": "stdout",
     "output_type": "stream",
     "text": [
      "[118924, 4552, 8028, 7176, 52590, 18960, 48440, 60426, 7424, 19712, 33718, 8246, 22424, 15772, 9108, 10122, 36462, 73476, 152024, 108282, 12392, 14332, 83754, 115318, 9642, 45910, 6390, 16034, 5384, 3866, 15308, 16406, 7776, 10372, 8218, 10660, 8566, 47224, 49586, 20518, 23926, 7684, 5992, 14626, 30962, 14502, 7406, 6912, 5950, 2892, 3134, 2054, 2044, 9828, 9048, 15566, 4622, 3170, 2070, 1364, 3084, 2650, 1198, 9188, 2552, 1794, 1594, 1280, 660, 716, 246, 2790, 826, 2738, 770, 896, 2470, 2000, 396, 916, 546, 576, 1824, 582, 554, 632, 264, 512, 388, 200, 376, 190, 164, 264, 206, 128, 190, 164, 156, 184, 196, 190, 178, 164, 166, 160, 154, 176, 194, 176, 168, 162, 202, 178, 212, 206, 184, 194, 172, 164, 194, 194, 178, 186, 176, 186, 162, 176, 180, 184, 188, 198, 156, 228, 148, 204, 158, 230, 174, 200, 172, 182, 172, 180, 196, 202, 162, 190, 216, 198, 212, 172, 162, 168, 146, 152, 180, 194, 190, 208, 206, 202, 196, 184, 168, 174, 176, 190, 202, 180, 212, 204, 174, 270, 192, 242, 176, 212, 192, 228, 198, 166, 170, 154, 204, 176, 204, 198, 194, 202, 172, 190, 182, 192, 174, 176, 188, 164, 160, 164, 194, 172, 194, 200, 184, 162, 194, 236, 148, 176, 210, 180, 220, 184, 184, 178, 176, 214, 214, 214, 230, 204, 174, 160, 182, 224, 174, 198, 210, 204, 230, 168, 138, 214, 180, 190, 182, 182, 190, 204, 164, 216, 182, 164, 200, 186, 182, 198, 160, 212, 176, 190, 192, 176, 204, 178, 180, 172, 192, 198, 182, 164, 196, 172, 180, 192, 158, 164, 176, 162, 212, 170, 176, 178, 174, 182, 148, 182, 182, 192, 188, 174, 150, 180, 220, 190, 194, 210, 164, 206, 228, 152, 186, 182, 182, 158, 224, 172, 180, 192, 192, 186, 150, 234, 150, 174, 164, 164, 172, 174, 200, 190, 186, 156, 226, 220, 158, 170, 170, 168, 204, 188, 156, 188, 206, 258, 178, 192, 176, 184, 318, 222, 168, 174, 212, 172, 186, 160, 178, 164, 182, 184, 222, 182, 178, 186, 160, 154, 208, 156, 204, 204, 246, 170, 174, 180, 220, 186, 224, 220, 190, 210, 176, 194, 174, 180, 188, 172, 166, 230, 172, 180, 176, 158, 190, 178, 188, 184, 178, 186, 212, 208, 148, 174, 180, 204, 174, 154, 164, 170, 200, 174, 180, 150, 184, 162, 166, 178, 186, 188, 196, 168, 154, 170, 154, 206, 178, 208, 216, 194, 180, 182, 154, 220, 232, 132, 196, 192, 180, 186, 182, 178, 248, 162, 152, 192, 186, 192, 196, 190, 194, 160, 182, 178, 164, 188, 202, 188, 190, 190, 200, 146, 184, 200, 176, 174, 184, 232, 176, 188, 192, 170, 182, 184, 192, 174, 176, 222, 170, 182, 192, 162, 182, 176, 148, 188, 160, 168, 148, 188, 182, 210, 168, 218, 178, 184, 188, 150, 220, 184, 200, 200, 178, 184, 188, 164, 186, 190, 186, 162, 200, 148, 170, 182, 154, 166, 188, 224, 180, 164]\n"
     ]
    }
   ],
   "source": [
    "TD_V_result = TD()"
   ]
  },
  {
   "cell_type": "markdown",
   "metadata": {},
   "source": [
    "# if you want to test simple maze, please run this module"
   ]
  },
  {
   "cell_type": "code",
   "execution_count": null,
   "metadata": {},
   "outputs": [],
   "source": [
    "# for simple maze, we do not need to output a csv file to get the accuracy result, we can simplely print it\n",
    "\n",
    "for i in range(len(maze)):\n",
    "    for j in range(len(maze[1])):\n",
    "        TD_V_result[i, j] = decimal.Decimal(TD_V_result[i,j]).quantize(decimal.Decimal(\"0.001\"))\n",
    "print(TD_V_result)"
   ]
  },
  {
   "cell_type": "markdown",
   "metadata": {},
   "source": [
    "# if you want to test complex maze and get the final csv result, please run this module, and please **do not run** the upper simple mudule, otherwise you cannot get precise result"
   ]
  },
  {
   "cell_type": "code",
   "execution_count": 7,
   "metadata": {},
   "outputs": [],
   "source": [
    "# for complex maze, we need to output a csv file to get the accuracy result\n",
    "# if you choose complex maze, please run this module\n",
    "\n",
    "for i in range(len(maze)):\n",
    "  for j in range(len(maze[1])):\n",
    "      TD_V_result[i,j] = decimal.Decimal(TD_V_result[i,j]).quantize(decimal.Decimal(\"0.0000000000000000000000000001\"))\n",
    "\n",
    "# output csv file\n",
    "\n",
    "column = np.arange(38)\n",
    "TD_V_RESULT = pd.DataFrame(columns = column, data = TD_V_result)\n",
    "TD_V_RESULT.to_csv('TD_based_complex_maze_result.csv')"
   ]
  }
 ],
 "metadata": {
  "kernelspec": {
   "display_name": "Python 3.9.7 ('sklearn-env')",
   "language": "python",
   "name": "python3"
  },
  "language_info": {
   "codemirror_mode": {
    "name": "ipython",
    "version": 3
   },
   "file_extension": ".py",
   "mimetype": "text/x-python",
   "name": "python",
   "nbconvert_exporter": "python",
   "pygments_lexer": "ipython3",
   "version": "3.9.7"
  },
  "orig_nbformat": 4,
  "vscode": {
   "interpreter": {
    "hash": "8813998d5ecce17ed91e012fe29b3a7c2089f4157e199529a0ecd692b44d3643"
   }
  }
 },
 "nbformat": 4,
 "nbformat_minor": 2
}
