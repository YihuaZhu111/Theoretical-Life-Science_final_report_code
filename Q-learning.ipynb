{
 "cells": [
  {
   "cell_type": "code",
   "execution_count": 1,
   "metadata": {},
   "outputs": [],
   "source": [
    "import numpy as np\n",
    "import matplotlib.pyplot as plt\n",
    "import decimal\n",
    "import pandas as pd"
   ]
  },
  {
   "cell_type": "markdown",
   "metadata": {},
   "source": [
    "# if you want to test simple maze, please run this module"
   ]
  },
  {
   "cell_type": "code",
   "execution_count": 2,
   "metadata": {},
   "outputs": [],
   "source": [
    "simple_maze = [[9, 9, 9, 9, 9, 9, 9, 9, 9, 9, 9, 9],\n",
    "               [9, 1, 0, 9, 0, 0, 0, 0, 0, 0, 0, 9],\n",
    "               [9, 0, 0, 9, 0, 9, 0, 0, 9, 9, 0, 9],\n",
    "               [9, 9, 0, 9, 0, 9, 9, 9, 9, 0, 0, 9],\n",
    "               [9, 0, 0, 0, 0, 0, 9, 0, 0, 0, 0, 9],\n",
    "               [9, 0, 0, 0, 0, 0, 9, 0, 0, 0, 0, 9],\n",
    "               [9, 9, 9, 9, 9, 0, 9, 0, 9, 0, 0, 9],\n",
    "               [9, 0, 0, 0, 0, 0, 9, 0, 9, 0, 0, 9],\n",
    "               [9, 0, 9, 9, 9, 9, 9, 0, 9, 0, 0, 9],\n",
    "               [9, 0, 0, 0, 0, 9, 0, 0, 9, 0, 0, 9],\n",
    "               [9, 0, 0, 9, 0, 0, 0, 0, 9, 0,-1, 9],\n",
    "               [9, 9, 9, 9, 9, 9, 9, 9, 9, 9, 9, 9]]\n",
    "\n",
    "maze = np.array(simple_maze)"
   ]
  },
  {
   "cell_type": "markdown",
   "metadata": {},
   "source": [
    "# if you want to test complex maze, please run this module"
   ]
  },
  {
   "cell_type": "code",
   "execution_count": null,
   "metadata": {},
   "outputs": [],
   "source": [
    "complex_maze = [[9, 9, 9, 9, 9, 9, 9, 9, 9, 9, 9, 9, 9, 9, 9, 9, 9, 9, 9, 9, 9, 9, 9, 9, 9, 9 ,9 ,9 ,9 ,9 ,9, 9, 9, 9, 9, 9, 9, 9],\n",
    "                [9, 1, 0, 0, 0, 0, 0, 0, 0, 9, 0, 0, 9, 9, 0, 0, 0, 0, 0, 0, 0, 0, 0, 0, 0, 0, 0, 0, 0, 0, 0, 0, 0, 0, 0, 0, 0, 9],\n",
    "                [9, 0, 9, 9 ,9, 9, 9, 9, 9, 9, 0, 0, 9, 9, 9, 9, 9, 9, 9, 9, 9, 9, 9, 9, 0, 9, 9, 9, 9, 9, 9, 9, 9, 0, 9, 9, 9, 9],\n",
    "                [9, 0, 9, 9 ,9, 9, 9, 9, 9, 9, 0, 0, 9, 9, 9, 9, 9, 9, 9, 9, 9, 9, 9, 9, 0, 9, 9, 9, 9, 9, 9, 9, 9, 0, 9, 9, 9, 9],\n",
    "                [9, 0, 9, 9 ,9, 9, 9, 9, 9, 9, 0, 0, 9, 9, 9, 9, 9, 9, 9, 9, 9, 9, 9, 9, 0, 9, 9, 9, 9, 9, 9, 9, 9, 0, 9, 9, 9, 9],\n",
    "                [9, 0, 0, 0, 0, 0, 0, 9, 9, 9, 0, 0, 0, 0, 0, 0, 0, 0, 0, 0, 0, 9, 9, 9, 0, 9, 9, 9, 0, 0, 0, 0, 0, 0, 0, 0, 0, 9],\n",
    "                [9, 0, 0, 0, 0, 0, 0, 9, 9, 9, 0, 9, 9, 9, 9, 9, 9, 9, 0, 9, 9, 9, 9, 9, 0, 9, 9, 9, 0, 9, 9, 9, 9, 9, 9, 9, 0, 9],\n",
    "                [9, 0, 0, 0, 0, 0, 0, 9, 9, 9, 0, 9, 9, 9, 9, 9, 9, 9, 0, 9, 9, 9, 9, 9, 0, 9, 9, 9, 0, 9, 9, 9, 9, 9, 9, 9, 0, 9],\n",
    "                [9, 9, 9, 9, 9, 9, 0, 9, 9, 9, 0, 9, 9, 9, 9, 9, 9, 9, 0, 9, 9, 9, 9, 9, 0, 9, 9, 9, 0, 9, 9, 9, 9, 9, 9, 9, 0, 9],\n",
    "                [9, 9, 9, 9, 9, 9, 0, 9, 9, 9, 0, 0, 0, 0, 0, 9, 9, 9, 0, 9, 9, 9, 0, 0, 0, 9, 9, 9, 0, 0, 0, 0, 0, 9, 9, 9, 9, 9],\n",
    "                [9, 9, 9, 9, 9, 9, 0, 9, 9, 9, 0, 0, 0, 0, 0, 9, 9, 9, 0, 9, 9, 9, 0, 9, 9, 9, 9, 9, 9, 9, 9, 9, 0, 9, 9, 9, 9, 9],\n",
    "                [9, 0, 0, 9, 9, 9, 0, 9, 9, 9, 0, 0, 0, 0, 0, 9, 9, 9, 0, 9, 9, 9, 0, 9, 9, 9, 9, 9, 9, 9, 9, 9, 0, 9, 9, 9, 9, 9],\n",
    "                [9, 0, 0, 9, 9, 9, 0, 9, 9, 9, 0, 9, 9, 9, 0, 9, 9, 9, 0, 9, 9, 9, 0, 0, 0, 0, 0, 0, 0, 0, 0, 0, 0, 0, 0, 0, 0, 9],\n",
    "                [9, 0, 0, 9, 9, 9, 0, 9, 9, 9, 0, 9, 9, 9, 0, 9, 9, 9, 0, 9, 9, 9, 0, 9, 9, 9, 9, 9, 9, 9, 9, 9, 9, 9, 9, 9, 0, 9],\n",
    "                [9, 0, 0, 9, 9, 9, 0, 9, 9, 9, 0, 9, 9, 9, 0, 9, 9, 9, 0, 9, 9, 9, 0, 9, 9, 9, 9, 9, 9, 9, 9, 9, 9, 9, 9, 9, 0, 9],\n",
    "                [9, 0, 0, 9, 9, 9, 0, 9, 9, 9, 0, 9, 9, 9, 0, 9, 9, 9, 0, 9, 9, 9, 0, 9, 9, 9, 9, 9, 9, 9, 9, 9, 9, 9, 9, 9, 0, 9],\n",
    "                [9, 0, 0, 9, 9, 9, 0, 0, 0, 0, 0, 9, 9, 9, 0, 9, 9, 9, 9, 9, 9, 9, 0, 9, 9, 9, 0, 0, 0, 0, 0, 0, 0, 9, 9, 9, 0, 9],\n",
    "                [9, 0, 0, 9, 9, 9, 0, 0, 0, 0, 0, 9, 9, 9, 0, 0, 0, 0, 0, 0, 0, 0, 0, 9, 9, 9, 0, 9, 9, 9, 9, 9, 9, 9, 9, 9, 0, 9],\n",
    "                [9, 0, 0, 9, 9, 9, 9, 9, 9, 9, 9, 9, 9, 9, 0, 9, 9, 9, 9, 9, 9, 9, 0, 9, 9, 9, 0, 9, 9, 9, 9, 9, 9, 9, 9, 9, 0, 9],\n",
    "                [9, 0, 0, 9, 9, 9, 9, 9, 9, 9, 9, 9, 9, 9, 0, 9, 9, 9, 9, 9, 9, 9, 0, 9, 9, 9, 0, 9, 9, 9, 9, 9, 9, 9, 9, 9, 0, 9],\n",
    "                [9, 0, 0, 9, 9, 9, 9, 9, 9, 9, 9, 9, 9, 9, 0, 9, 9, 9, 9, 9, 9, 9, 0, 9, 9, 9, 0, 9, 9, 9, 9, 9, 9, 9, 9, 9, 0, 9],\n",
    "                [9, 0, 0, 0, 0, 0, 0, 0, 0, 0, 0, 0, 0, 0, 0, 9, 9, 9, 0, 0, 0, 0, 0, 9, 9, 9, 0, 9, 9, 9, 0, 0, 0, 0, 0, 0, 0, 9],\n",
    "                [9, 9, 9, 9, 9, 9, 0, 9, 9, 9, 9, 9, 9, 9, 0, 9, 9, 9, 0, 0, 0, 0, 0, 0, 0, 0, 0, 9, 9, 9, 0, 9, 9, 9, 9, 9, 0, 9],\n",
    "                [9, 9, 9, 9, 9, 9, 0, 9, 9, 9, 9, 9, 9, 9, 0, 9, 9, 9, 9, 9, 9, 9, 0, 9, 9, 9, 9, 9, 9, 9, 0, 9, 9, 9, 9, 9, 0, 9],\n",
    "                [9, 9, 9, 9, 9, 9, 0, 9, 9, 9, 9, 9, 9, 9, 0, 9, 9, 9, 9, 9, 9, 9, 0, 9, 9, 9, 9, 9, 9, 9, 0, 9, 9, 9, 9, 9, 0, 9], \n",
    "                [9, 0, 0, 9, 9, 9, 0, 9, 9, 9, 0, 0, 0, 0, 0, 0, 0, 0, 0, 9, 9, 9, 0, 9, 9, 9, 0, 9, 9, 9, 0, 9, 9, 9, 0, 0, 0, 9],\n",
    "                [9, 0, 0, 9, 9, 9, 0, 9, 9, 9, 0, 0, 0, 0, 0, 0, 0, 0, 0, 9, 9, 9, 0, 9, 9, 9, 0, 9, 9, 9, 0, 9, 9, 9, 0, 0, 0, 9],\n",
    "                [9, 0, 0, 9, 9, 9, 0, 9, 9, 9, 0, 9, 9, 9, 9, 9, 9, 9, 0, 9, 9, 9, 0, 9, 9, 9, 0, 9, 9, 9, 0, 9, 9, 9, 0, 0, 0, 9],\n",
    "                [9, 0, 0, 9, 9, 9, 0, 9, 9, 9, 0, 9, 9, 9, 9, 9, 9, 9, 0, 0, 0, 0, 0, 0, 0, 0, 0, 9, 9, 9, 0, 9, 9, 9, 0, 0, 0, 9],\n",
    "                [9, 0, 0, 9, 9, 9, 0, 9, 9, 9, 0, 9, 9, 9, 9, 9, 9, 9, 9, 9, 9, 9, 9, 9, 9, 9, 0, 9, 9, 9, 0, 9, 9, 9, 9, 9, 9, 9],\n",
    "                [9, 0, 0, 9, 9, 9, 0, 9, 9, 9, 0, 0, 0, 0, 0, 9, 9, 9, 9, 9, 9, 9, 9, 9, 9, 9, 0, 9, 9, 9, 0, 9, 9, 9, 9, 9, 9, 9],\n",
    "                [9, 0, 0, 9, 9, 9, 0, 9, 9, 9, 9, 9, 9, 9, 0, 9, 9, 9, 9, 9, 9, 9, 9, 9, 9, 9, 0, 9, 9, 9, 0, 0, 0, 0, 0, 0, 0, 9],\n",
    "                [9, 0, 0, 9, 9, 9, 0, 9, 9, 9, 9, 9, 9, 9, 0, 9, 9, 9, 0, 0, 0, 0, 0, 9, 9, 9, 9, 9, 9, 9, 9, 9, 9, 9, 9, 9, 0, 9],\n",
    "                [9, 0, 0, 9, 9, 9, 0, 9, 9, 9, 9, 9, 9, 9, 0, 9, 9, 9, 0, 0, 0, 0, 0, 9, 9, 9, 9, 9, 9, 9, 9, 9, 9, 9, 9, 9, 0, 9],\n",
    "                [9, 0, 0, 0, 0, 0, 0, 0, 0, 0, 0, 0, 0, 0, 0, 9, 9, 9, 0, 0, 0, 0, 0, 9, 9, 9, 9, 9, 9, 9, 9, 9, 9, 9, 9, 9, 0, 9],\n",
    "                [9, 0, 0, 0, 0, 0, 0, 0, 0, 0, 0, 0, 0, 0, 0, 9, 9, 9, 0, 0, 0, 0, 0, 9, 9, 9, 9, 9, 9, 9, 9, 9, 9, 9, 9, 9, 0, 9],\n",
    "                [9, 0, 0, 0, 0, 0, 0, 0, 0, 0, 0, 0, 0, 0, 0, 9, 9, 9, 0, 0, 0, 0, 0, 0, 0, 0, 0, 0, 0, 0, 0, 0, 0, 0, 0, 0,-1, 9],\n",
    "                [9, 9, 9, 9, 9, 9, 9, 9, 9, 9, 9, 9, 9, 9, 9, 9, 9, 9, 9, 9, 9, 9, 9, 9, 9, 9, 9, 9, 9, 9, 9, 9, 9, 9, 9, 9, 9, 9]]\n",
    "\n",
    "maze = np.array(complex_maze)"
   ]
  },
  {
   "cell_type": "markdown",
   "metadata": {},
   "source": [
    "# Main algrithm"
   ]
  },
  {
   "cell_type": "markdown",
   "metadata": {},
   "source": [
    "## you can change different epsilon here from 0.05 to 0.95."
   ]
  },
  {
   "cell_type": "code",
   "execution_count": 3,
   "metadata": {},
   "outputs": [],
   "source": [
    "# you can change different epsilon here from 0.05 to 0.95.\n",
    "epsilon = 0.1\n",
    "alpha = 0.05\n",
    "gamma = 0.95\n",
    "start_position = [1, 1]"
   ]
  },
  {
   "cell_type": "code",
   "execution_count": 4,
   "metadata": {},
   "outputs": [],
   "source": [
    "# 0 means up, 1 means down, 2 means left, 3 means right\n",
    "def processes(state, motion):\n",
    "    i,j = state\n",
    "    if motion == 0:\n",
    "       return [i-1, j]\n",
    "    elif motion == 1:\n",
    "       return [i+1, j] \n",
    "    elif motion == 2:\n",
    "       return [i, j-1] \n",
    "    elif motion == 3:\n",
    "       return [i, j+1]\n",
    "\n",
    "def reward(state):\n",
    "    if maze[state[0], state[1]] == -1:\n",
    "       reward = 1\n",
    "    else:\n",
    "       reward = 0\n",
    "    return reward"
   ]
  },
  {
   "cell_type": "code",
   "execution_count": 5,
   "metadata": {},
   "outputs": [],
   "source": [
    "# 0 means up, 1 means down, 2 means left, 3 means right\n",
    "actions = [0, 1, 2, 3]\n",
    "\n",
    "def episode(Q_base):\n",
    "    count = 0\n",
    "    state = start_position\n",
    "    while maze[state[0],state[1]] != -1:\n",
    "        next_state = []\n",
    "        can_do_action = [motion for motion in actions if maze[processes(state, motion)[0], processes(state, motion)[1]] != 9]\n",
    "\n",
    "        if np.random.binomial(1, epsilon) == 1:\n",
    "           action = np.random.choice(can_do_action)\n",
    "        else:\n",
    "           Q_1 = Q_base[state[0],state[1],:]\n",
    "           action = np.random.choice([act for act in can_do_action if Q_base[state[0],state[1],act] == np.max(Q_1)])\n",
    "    \n",
    "        next_state = processes(state, action)\n",
    "        can_do_next_act = [act for act in actions if maze[processes(next_state,act)[0], processes(next_state, act)[1]] != 9]\n",
    "        Q_2 = Q_base[next_state[0],next_state[1],:]\n",
    "        next_action = np.random.choice([motion for motion in can_do_next_act if Q_base[next_state[0],next_state[1], motion] == np.max(Q_2)])\n",
    "\n",
    "        Q_base[state[0],state[1],action] += alpha * (reward(next_state) + gamma * Q_base[next_state[0], next_state[1], next_action] - Q_base[state[0], state[1], action])\n",
    "        state = next_state\n",
    "        count += 1\n",
    "    return count"
   ]
  },
  {
   "cell_type": "code",
   "execution_count": 6,
   "metadata": {},
   "outputs": [],
   "source": [
    "def Q_learning():\n",
    "    Q = np.zeros((len(maze),len(maze[1]),4))\n",
    "    episode_limit = 500\n",
    "    motion_steps = []\n",
    "    motion_mean = []\n",
    "    episode_real = 0\n",
    "    while episode_real < episode_limit:\n",
    "        motion_steps.append(episode(Q))\n",
    "        if episode_real % 10 == 0 and episode_real != 0:\n",
    "            motion_mean.append(np.mean(motion_steps[episode_real - 10: episode_real]))\n",
    "        episode_real += 1\n",
    "    motion_mean = np.array(motion_mean)\n",
    "    n = [x * 10 for x in range(1, 50)]\n",
    "    plt.figure()\n",
    "    plt.grid()\n",
    "    plt.title('epsilon = 0.1')\n",
    "    plt.plot(n, motion_mean, color='r')\n",
    "    plt.xlabel('time steps')\n",
    "    plt.ylabel('episodes')\n",
    "    plt.show()\n",
    "    print(motion_steps)\n",
    "    Q_learning_V = np.zeros((len(maze),len(maze[1])))\n",
    "    for i in range(len(maze)):\n",
    "        for j in range(len(maze[1])):\n",
    "            Q_learning_V[i, j] = np.mean(Q[i, j, :])\n",
    "    return Q_learning_V "
   ]
  },
  {
   "cell_type": "code",
   "execution_count": 7,
   "metadata": {},
   "outputs": [
    {
     "data": {
      "image/png": "[encoded data removed]",
      "text/plain": [
       "<Figure size 432x288 with 1 Axes>"
      ]
     },
     "metadata": {
      "needs_background": "light"
     },
     "output_type": "display_data"
    },
    {
     "name": "stdout",
     "output_type": "stream",
     "text": [
      "[844, 1200, 1936, 260, 524, 298, 832, 906, 394, 252, 424, 788, 942, 396, 1626, 502, 1554, 132, 454, 138, 120, 96, 170, 200, 468, 1080, 72, 308, 130, 66, 36, 58, 48, 46, 28, 28, 32, 28, 30, 34, 26, 32, 26, 28, 28, 28, 32, 26, 26, 30, 34, 30, 28, 36, 28, 26, 28, 24, 32, 28, 24, 28, 26, 28, 26, 26, 30, 24, 28, 26, 24, 30, 24, 26, 24, 24, 24, 24, 28, 28, 26, 26, 28, 24, 28, 24, 30, 24, 26, 28, 26, 24, 26, 32, 28, 26, 26, 26, 30, 30, 30, 24, 26, 28, 26, 26, 28, 30, 26, 24, 28, 28, 24, 24, 26, 30, 24, 26, 26, 28, 26, 30, 26, 26, 24, 30, 28, 24, 26, 28, 26, 24, 24, 26, 30, 28, 28, 30, 26, 30, 26, 30, 24, 24, 28, 32, 26, 32, 30, 24, 24, 24, 26, 26, 24, 28, 28, 26, 24, 24, 26, 28, 26, 28, 26, 36, 26, 28, 26, 24, 32, 24, 24, 28, 28, 28, 28, 30, 28, 28, 30, 26, 24, 28, 28, 28, 24, 34, 24, 26, 24, 28, 32, 32, 24, 30, 26, 26, 32, 26, 26, 26, 24, 26, 28, 28, 24, 24, 26, 28, 24, 26, 26, 26, 26, 26, 30, 26, 28, 28, 32, 28, 24, 24, 28, 24, 30, 34, 26, 26, 24, 30, 24, 24, 26, 30, 24, 26, 28, 24, 24, 26, 24, 28, 28, 28, 26, 26, 24, 24, 26, 26, 28, 24, 28, 26, 26, 28, 28, 26, 26, 26, 26, 32, 28, 28, 32, 26, 28, 32, 26, 28, 28, 30, 28, 30, 24, 24, 26, 26, 24, 26, 24, 24, 28, 26, 26, 32, 24, 26, 28, 24, 26, 32, 28, 26, 24, 26, 26, 26, 28, 28, 24, 26, 32, 30, 24, 26, 30, 28, 28, 30, 24, 26, 26, 24, 24, 24, 24, 24, 28, 30, 26, 24, 26, 24, 28, 26, 28, 24, 34, 34, 28, 26, 26, 30, 32, 24, 24, 28, 26, 28, 30, 26, 28, 30, 26, 26, 26, 30, 28, 28, 24, 28, 24, 28, 28, 26, 28, 26, 24, 24, 30, 26, 26, 24, 26, 24, 24, 30, 26, 26, 26, 26, 26, 30, 30, 26, 24, 30, 28, 28, 28, 24, 26, 24, 32, 28, 26, 26, 26, 28, 26, 24, 24, 34, 26, 30, 28, 26, 28, 26, 26, 26, 24, 26, 28, 28, 24, 28, 26, 28, 28, 28, 28, 26, 26, 26, 26, 28, 24, 24, 24, 30, 28, 32, 28, 26, 24, 28, 26, 28, 26, 28, 24, 26, 26, 26, 28, 30, 30, 24, 24, 28, 34, 26, 40, 24, 28, 24, 28, 26, 30, 26, 28, 24, 28, 30, 28, 24, 32, 28, 28, 28, 28, 26, 26, 26, 30, 24, 28, 24, 28, 26, 24, 26, 24, 26, 26, 30, 30, 26, 24, 26, 30, 32, 26, 24, 28, 28, 26, 24, 26, 28, 32, 26, 32, 26, 28, 28]\n"
     ]
    }
   ],
   "source": [
    "Q_learning_V_result = Q_learning()"
   ]
  },
  {
   "cell_type": "markdown",
   "metadata": {},
   "source": [
    "# if you want to test simple maze, please run this module"
   ]
  },
  {
   "cell_type": "code",
   "execution_count": 8,
   "metadata": {},
   "outputs": [
    {
     "name": "stdout",
     "output_type": "stream",
     "text": [
      "[[0.    0.    0.    0.    0.    0.    0.    0.    0.    0.    0.    0.   ]\n",
      " [0.    0.056 0.025 0.    0.16  0.185 0.162 0.207 0.196 0.233 0.263 0.   ]\n",
      " [0.    0.076 0.079 0.    0.137 0.    0.036 0.055 0.    0.    0.262 0.   ]\n",
      " [0.    0.    0.092 0.    0.14  0.    0.    0.    0.    0.102 0.318 0.   ]\n",
      " [0.    0.015 0.102 0.109 0.119 0.024 0.    0.    0.    0.086 0.291 0.   ]\n",
      " [0.    0.    0.025 0.018 0.02  0.    0.    0.    0.    0.077 0.304 0.   ]\n",
      " [0.    0.    0.    0.    0.    0.    0.    0.    0.    0.142 0.325 0.   ]\n",
      " [0.    0.    0.    0.    0.    0.    0.    0.    0.    0.142 0.378 0.   ]\n",
      " [0.    0.    0.    0.    0.    0.    0.    0.    0.    0.162 0.418 0.   ]\n",
      " [0.    0.    0.    0.    0.    0.    0.    0.    0.    0.081 0.415 0.   ]\n",
      " [0.    0.    0.    0.    0.    0.    0.    0.    0.    0.128 0.    0.   ]\n",
      " [0.    0.    0.    0.    0.    0.    0.    0.    0.    0.    0.    0.   ]]\n"
     ]
    }
   ],
   "source": [
    "# for simple maze, we do not need to output a csv file to get the accuracy result, we can simplely print it\n",
    "\n",
    "for i in range(len(maze)):\n",
    "    for j in range(len(maze[1])):\n",
    "        Q_learning_V_result[i, j] = decimal.Decimal(Q_learning_V_result[i,j]).quantize(decimal.Decimal(\"0.001\"))\n",
    "print(Q_learning_V_result)"
   ]
  },
  {
   "cell_type": "markdown",
   "metadata": {},
   "source": [
    "# if you want to test complex maze and get the final csv result, please run this module, and please **do not run** the upper simple mudule, otherwise you cannot get precise result"
   ]
  },
  {
   "cell_type": "code",
   "execution_count": null,
   "metadata": {},
   "outputs": [],
   "source": [
    "# for complex maze, we need to output a csv file to get the accuracy result\n",
    "# if you choose complex maze, please run this module\n",
    "\n",
    "for i in range(len(maze)):\n",
    "  for j in range(len(maze[1])):\n",
    "      Q_learning_V_result[i,j] = decimal.Decimal(Q_learning_V_result[i,j]).quantize(decimal.Decimal(\"0.0000000000000000000000000001\"))\n",
    "\n",
    "# output csv file\n",
    "\n",
    "column = np.arange(38)\n",
    "Q_learning_V_RESULT = pd.DataFrame(columns = column, data = Q_learning_V_result)\n",
    "Q_learning_V_RESULT.to_csv('Q_learning_complex_maze_result.csv')"
   ]
  }
 ],
 "metadata": {
  "kernelspec": {
   "display_name": "Python 3.9.7 ('sklearn-env')",
   "language": "python",
   "name": "python3"
  },
  "language_info": {
   "codemirror_mode": {
    "name": "ipython",
    "version": 3
   },
   "file_extension": ".py",
   "mimetype": "text/x-python",
   "name": "python",
   "nbconvert_exporter": "python",
   "pygments_lexer": "ipython3",
   "version": "3.9.7"
  },
  "orig_nbformat": 4,
  "vscode": {
   "interpreter": {
    "hash": "8813998d5ecce17ed91e012fe29b3a7c2089f4157e199529a0ecd692b44d3643"
   }
  }
 },
 "nbformat": 4,
 "nbformat_minor": 2
}
