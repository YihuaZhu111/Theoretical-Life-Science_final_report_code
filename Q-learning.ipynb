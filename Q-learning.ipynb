{
 "cells": [
  {
   "cell_type": "code",
   "execution_count": 1,
   "metadata": {},
   "outputs": [],
   "source": [
    "import numpy as np\n",
    "import matplotlib.pyplot as plt\n",
    "import decimal\n",
    "import pandas as pd"
   ]
  },
  {
   "cell_type": "markdown",
   "metadata": {},
   "source": [
    "# if you want to test simple maze, please run this module"
   ]
  },
  {
   "cell_type": "code",
   "execution_count": null,
   "metadata": {},
   "outputs": [],
   "source": [
    "simple_maze = [[9, 9, 9, 9, 9, 9, 9, 9, 9, 9, 9, 9],\n",
    "               [9, 1, 0, 9, 0, 0, 0, 0, 0, 0, 0, 9],\n",
    "               [9, 0, 0, 9, 0, 9, 0, 0, 9, 9, 0, 9],\n",
    "               [9, 9, 0, 9, 0, 9, 9, 9, 9, 0, 0, 9],\n",
    "               [9, 0, 0, 0, 0, 0, 9, 0, 0, 0, 0, 9],\n",
    "               [9, 0, 0, 0, 0, 0, 9, 0, 0, 0, 0, 9],\n",
    "               [9, 9, 9, 9, 9, 0, 9, 0, 9, 0, 0, 9],\n",
    "               [9, 0, 0, 0, 0, 0, 9, 0, 9, 0, 0, 9],\n",
    "               [9, 0, 9, 9, 9, 9, 9, 0, 9, 0, 0, 9],\n",
    "               [9, 0, 0, 0, 0, 9, 0, 0, 9, 0, 0, 9],\n",
    "               [9, 0, 0, 9, 0, 0, 0, 0, 9, 0,-1, 9],\n",
    "               [9, 9, 9, 9, 9, 9, 9, 9, 9, 9, 9, 9]]\n",
    "\n",
    "maze = np.array(simple_maze)"
   ]
  },
  {
   "cell_type": "markdown",
   "metadata": {},
   "source": [
    "# if you want to test complex maze, please run this module"
   ]
  },
  {
   "cell_type": "code",
   "execution_count": 2,
   "metadata": {},
   "outputs": [],
   "source": [
    "complex_maze = [[9, 9, 9, 9, 9, 9, 9, 9, 9, 9, 9, 9, 9, 9, 9, 9, 9, 9, 9, 9, 9, 9, 9, 9, 9, 9 ,9 ,9 ,9 ,9 ,9, 9, 9, 9, 9, 9, 9, 9],\n",
    "                [9, 1, 0, 0, 0, 0, 0, 0, 0, 9, 0, 0, 9, 9, 0, 0, 0, 0, 0, 0, 0, 0, 0, 0, 0, 0, 0, 0, 0, 0, 0, 0, 0, 0, 0, 0, 0, 9],\n",
    "                [9, 0, 9, 9 ,9, 9, 9, 9, 9, 9, 0, 0, 9, 9, 9, 9, 9, 9, 9, 9, 9, 9, 9, 9, 0, 9, 9, 9, 9, 9, 9, 9, 9, 0, 9, 9, 9, 9],\n",
    "                [9, 0, 9, 9 ,9, 9, 9, 9, 9, 9, 0, 0, 9, 9, 9, 9, 9, 9, 9, 9, 9, 9, 9, 9, 0, 9, 9, 9, 9, 9, 9, 9, 9, 0, 9, 9, 9, 9],\n",
    "                [9, 0, 9, 9 ,9, 9, 9, 9, 9, 9, 0, 0, 9, 9, 9, 9, 9, 9, 9, 9, 9, 9, 9, 9, 0, 9, 9, 9, 9, 9, 9, 9, 9, 0, 9, 9, 9, 9],\n",
    "                [9, 0, 0, 0, 0, 0, 0, 9, 9, 9, 0, 0, 0, 0, 0, 0, 0, 0, 0, 0, 0, 9, 9, 9, 0, 9, 9, 9, 0, 0, 0, 0, 0, 0, 0, 0, 0, 9],\n",
    "                [9, 0, 0, 0, 0, 0, 0, 9, 9, 9, 0, 9, 9, 9, 9, 9, 9, 9, 0, 9, 9, 9, 9, 9, 0, 9, 9, 9, 0, 9, 9, 9, 9, 9, 9, 9, 0, 9],\n",
    "                [9, 0, 0, 0, 0, 0, 0, 9, 9, 9, 0, 9, 9, 9, 9, 9, 9, 9, 0, 9, 9, 9, 9, 9, 0, 9, 9, 9, 0, 9, 9, 9, 9, 9, 9, 9, 0, 9],\n",
    "                [9, 9, 9, 9, 9, 9, 0, 9, 9, 9, 0, 9, 9, 9, 9, 9, 9, 9, 0, 9, 9, 9, 9, 9, 0, 9, 9, 9, 0, 9, 9, 9, 9, 9, 9, 9, 0, 9],\n",
    "                [9, 9, 9, 9, 9, 9, 0, 9, 9, 9, 0, 0, 0, 0, 0, 9, 9, 9, 0, 9, 9, 9, 0, 0, 0, 9, 9, 9, 0, 0, 0, 0, 0, 9, 9, 9, 9, 9],\n",
    "                [9, 9, 9, 9, 9, 9, 0, 9, 9, 9, 0, 0, 0, 0, 0, 9, 9, 9, 0, 9, 9, 9, 0, 9, 9, 9, 9, 9, 9, 9, 9, 9, 0, 9, 9, 9, 9, 9],\n",
    "                [9, 0, 0, 9, 9, 9, 0, 9, 9, 9, 0, 0, 0, 0, 0, 9, 9, 9, 0, 9, 9, 9, 0, 9, 9, 9, 9, 9, 9, 9, 9, 9, 0, 9, 9, 9, 9, 9],\n",
    "                [9, 0, 0, 9, 9, 9, 0, 9, 9, 9, 0, 9, 9, 9, 0, 9, 9, 9, 0, 9, 9, 9, 0, 0, 0, 0, 0, 0, 0, 0, 0, 0, 0, 0, 0, 0, 0, 9],\n",
    "                [9, 0, 0, 9, 9, 9, 0, 9, 9, 9, 0, 9, 9, 9, 0, 9, 9, 9, 0, 9, 9, 9, 0, 9, 9, 9, 9, 9, 9, 9, 9, 9, 9, 9, 9, 9, 0, 9],\n",
    "                [9, 0, 0, 9, 9, 9, 0, 9, 9, 9, 0, 9, 9, 9, 0, 9, 9, 9, 0, 9, 9, 9, 0, 9, 9, 9, 9, 9, 9, 9, 9, 9, 9, 9, 9, 9, 0, 9],\n",
    "                [9, 0, 0, 9, 9, 9, 0, 9, 9, 9, 0, 9, 9, 9, 0, 9, 9, 9, 0, 9, 9, 9, 0, 9, 9, 9, 9, 9, 9, 9, 9, 9, 9, 9, 9, 9, 0, 9],\n",
    "                [9, 0, 0, 9, 9, 9, 0, 0, 0, 0, 0, 9, 9, 9, 0, 9, 9, 9, 9, 9, 9, 9, 0, 9, 9, 9, 0, 0, 0, 0, 0, 0, 0, 9, 9, 9, 0, 9],\n",
    "                [9, 0, 0, 9, 9, 9, 0, 0, 0, 0, 0, 9, 9, 9, 0, 0, 0, 0, 0, 0, 0, 0, 0, 9, 9, 9, 0, 9, 9, 9, 9, 9, 9, 9, 9, 9, 0, 9],\n",
    "                [9, 0, 0, 9, 9, 9, 9, 9, 9, 9, 9, 9, 9, 9, 0, 9, 9, 9, 9, 9, 9, 9, 0, 9, 9, 9, 0, 9, 9, 9, 9, 9, 9, 9, 9, 9, 0, 9],\n",
    "                [9, 0, 0, 9, 9, 9, 9, 9, 9, 9, 9, 9, 9, 9, 0, 9, 9, 9, 9, 9, 9, 9, 0, 9, 9, 9, 0, 9, 9, 9, 9, 9, 9, 9, 9, 9, 0, 9],\n",
    "                [9, 0, 0, 9, 9, 9, 9, 9, 9, 9, 9, 9, 9, 9, 0, 9, 9, 9, 9, 9, 9, 9, 0, 9, 9, 9, 0, 9, 9, 9, 9, 9, 9, 9, 9, 9, 0, 9],\n",
    "                [9, 0, 0, 0, 0, 0, 0, 0, 0, 0, 0, 0, 0, 0, 0, 9, 9, 9, 0, 0, 0, 0, 0, 9, 9, 9, 0, 9, 9, 9, 0, 0, 0, 0, 0, 0, 0, 9],\n",
    "                [9, 9, 9, 9, 9, 9, 0, 9, 9, 9, 9, 9, 9, 9, 0, 9, 9, 9, 0, 0, 0, 0, 0, 0, 0, 0, 0, 9, 9, 9, 0, 9, 9, 9, 9, 9, 0, 9],\n",
    "                [9, 9, 9, 9, 9, 9, 0, 9, 9, 9, 9, 9, 9, 9, 0, 9, 9, 9, 9, 9, 9, 9, 0, 9, 9, 9, 9, 9, 9, 9, 0, 9, 9, 9, 9, 9, 0, 9],\n",
    "                [9, 9, 9, 9, 9, 9, 0, 9, 9, 9, 9, 9, 9, 9, 0, 9, 9, 9, 9, 9, 9, 9, 0, 9, 9, 9, 9, 9, 9, 9, 0, 9, 9, 9, 9, 9, 0, 9], \n",
    "                [9, 0, 0, 9, 9, 9, 0, 9, 9, 9, 0, 0, 0, 0, 0, 0, 0, 0, 0, 9, 9, 9, 0, 9, 9, 9, 0, 9, 9, 9, 0, 9, 9, 9, 0, 0, 0, 9],\n",
    "                [9, 0, 0, 9, 9, 9, 0, 9, 9, 9, 0, 0, 0, 0, 0, 0, 0, 0, 0, 9, 9, 9, 0, 9, 9, 9, 0, 9, 9, 9, 0, 9, 9, 9, 0, 0, 0, 9],\n",
    "                [9, 0, 0, 9, 9, 9, 0, 9, 9, 9, 0, 9, 9, 9, 9, 9, 9, 9, 0, 9, 9, 9, 0, 9, 9, 9, 0, 9, 9, 9, 0, 9, 9, 9, 0, 0, 0, 9],\n",
    "                [9, 0, 0, 9, 9, 9, 0, 9, 9, 9, 0, 9, 9, 9, 9, 9, 9, 9, 0, 0, 0, 0, 0, 0, 0, 0, 0, 9, 9, 9, 0, 9, 9, 9, 0, 0, 0, 9],\n",
    "                [9, 0, 0, 9, 9, 9, 0, 9, 9, 9, 0, 9, 9, 9, 9, 9, 9, 9, 9, 9, 9, 9, 9, 9, 9, 9, 0, 9, 9, 9, 0, 9, 9, 9, 9, 9, 9, 9],\n",
    "                [9, 0, 0, 9, 9, 9, 0, 9, 9, 9, 0, 0, 0, 0, 0, 9, 9, 9, 9, 9, 9, 9, 9, 9, 9, 9, 0, 9, 9, 9, 0, 9, 9, 9, 9, 9, 9, 9],\n",
    "                [9, 0, 0, 9, 9, 9, 0, 9, 9, 9, 9, 9, 9, 9, 0, 9, 9, 9, 9, 9, 9, 9, 9, 9, 9, 9, 0, 9, 9, 9, 0, 0, 0, 0, 0, 0, 0, 9],\n",
    "                [9, 0, 0, 9, 9, 9, 0, 9, 9, 9, 9, 9, 9, 9, 0, 9, 9, 9, 0, 0, 0, 0, 0, 9, 9, 9, 9, 9, 9, 9, 9, 9, 9, 9, 9, 9, 0, 9],\n",
    "                [9, 0, 0, 9, 9, 9, 0, 9, 9, 9, 9, 9, 9, 9, 0, 9, 9, 9, 0, 0, 0, 0, 0, 9, 9, 9, 9, 9, 9, 9, 9, 9, 9, 9, 9, 9, 0, 9],\n",
    "                [9, 0, 0, 0, 0, 0, 0, 0, 0, 0, 0, 0, 0, 0, 0, 9, 9, 9, 0, 0, 0, 0, 0, 9, 9, 9, 9, 9, 9, 9, 9, 9, 9, 9, 9, 9, 0, 9],\n",
    "                [9, 0, 0, 0, 0, 0, 0, 0, 0, 0, 0, 0, 0, 0, 0, 9, 9, 9, 0, 0, 0, 0, 0, 9, 9, 9, 9, 9, 9, 9, 9, 9, 9, 9, 9, 9, 0, 9],\n",
    "                [9, 0, 0, 0, 0, 0, 0, 0, 0, 0, 0, 0, 0, 0, 0, 9, 9, 9, 0, 0, 0, 0, 0, 0, 0, 0, 0, 0, 0, 0, 0, 0, 0, 0, 0, 0,-1, 9],\n",
    "                [9, 9, 9, 9, 9, 9, 9, 9, 9, 9, 9, 9, 9, 9, 9, 9, 9, 9, 9, 9, 9, 9, 9, 9, 9, 9, 9, 9, 9, 9, 9, 9, 9, 9, 9, 9, 9, 9]]\n",
    "\n",
    "maze = np.array(complex_maze)"
   ]
  },
  {
   "cell_type": "markdown",
   "metadata": {},
   "source": [
    "# Main algrithm"
   ]
  },
  {
   "cell_type": "markdown",
   "metadata": {},
   "source": [
    "## you can change different epsilon here from 0.05 to 0.95."
   ]
  },
  {
   "cell_type": "code",
   "execution_count": 3,
   "metadata": {},
   "outputs": [],
   "source": [
    "# you can change different epsilon here from 0.05 to 0.95.\n",
    "epsilon = 0.1\n",
    "alpha = 0.05\n",
    "gamma = 0.95\n",
    "start_position = [1, 1]"
   ]
  },
  {
   "cell_type": "code",
   "execution_count": 4,
   "metadata": {},
   "outputs": [],
   "source": [
    "# 0 means up, 1 means down, 2 means left, 3 means right\n",
    "def processes(state, motion):\n",
    "    i,j = state\n",
    "    if motion == 0:\n",
    "       return [i-1, j]\n",
    "    elif motion == 1:\n",
    "       return [i+1, j] \n",
    "    elif motion == 2:\n",
    "       return [i, j-1] \n",
    "    elif motion == 3:\n",
    "       return [i, j+1]\n",
    "\n",
    "def reward(state):\n",
    "    if maze[state[0], state[1]] == -1:\n",
    "       reward = 1\n",
    "    else:\n",
    "       reward = 0\n",
    "    return reward"
   ]
  },
  {
   "cell_type": "code",
   "execution_count": 5,
   "metadata": {},
   "outputs": [],
   "source": [
    "# 0 means up, 1 means down, 2 means left, 3 means right\n",
    "actions = [0, 1, 2, 3]\n",
    "\n",
    "def episode(Q_base):\n",
    "    count = 0\n",
    "    state = start_position\n",
    "    while maze[state[0],state[1]] != -1:\n",
    "        next_state = []\n",
    "        can_do_action = [motion for motion in actions if maze[processes(state, motion)[0], processes(state, motion)[1]] != 9]\n",
    "\n",
    "        if np.random.binomial(1, epsilon) == 1:\n",
    "           action = np.random.choice(can_do_action)\n",
    "        else:\n",
    "           Q_1 = Q_base[state[0],state[1],:]\n",
    "           action = np.random.choice([act for act in can_do_action if Q_base[state[0],state[1],act] == np.max(Q_1)])\n",
    "    \n",
    "        next_state = processes(state, action)\n",
    "        can_do_next_act = [act for act in actions if maze[processes(next_state,act)[0], processes(next_state, act)[1]] != 9]\n",
    "        Q_2 = Q_base[next_state[0],next_state[1],:]\n",
    "        next_action = np.random.choice([motion for motion in can_do_next_act if Q_base[next_state[0],next_state[1], motion] == np.max(Q_2)])\n",
    "\n",
    "        Q_base[state[0],state[1],action] += alpha * (reward(next_state) + gamma * Q_base[next_state[0], next_state[1], next_action] - Q_base[state[0], state[1], action])\n",
    "        state = next_state\n",
    "        count += 1\n",
    "    return count"
   ]
  },
  {
   "cell_type": "code",
   "execution_count": 6,
   "metadata": {},
   "outputs": [],
   "source": [
    "def Q_learning():\n",
    "    Q = np.zeros((len(maze),len(maze[1]),4))\n",
    "    episode_limit = 500\n",
    "    motion_steps = []\n",
    "    motion_mean = []\n",
    "    episode_real = 0\n",
    "    while episode_real < episode_limit:\n",
    "        motion_steps.append(episode(Q))\n",
    "        if episode_real % 10 == 0 and episode_real != 0:\n",
    "            motion_mean.append(np.mean(motion_steps[episode_real - 10: episode_real]))\n",
    "        episode_real += 1\n",
    "    motion_mean = np.array(motion_mean)\n",
    "    n = [x * 10 for x in range(1, 50)]\n",
    "    plt.figure()\n",
    "    plt.grid()\n",
    "    plt.title('epsilon = 0.1')\n",
    "    plt.plot(n, motion_mean, color='r')\n",
    "    plt.xlabel('time steps')\n",
    "    plt.ylabel('episodes')\n",
    "    plt.show()\n",
    "    print(motion_steps)\n",
    "    Q_learning_V = np.zeros((len(maze),len(maze[1])))\n",
    "    for i in range(len(maze)):\n",
    "        for j in range(len(maze[1])):\n",
    "            Q_learning_V[i, j] = np.mean(Q[i, j, :])\n",
    "    return Q_learning_V "
   ]
  },
  {
   "cell_type": "code",
   "execution_count": 7,
   "metadata": {},
   "outputs": [
    {
     "data": {
      "image/png": "[encoded data removed]",
      "text/plain": [
       "<Figure size 432x288 with 1 Axes>"
      ]
     },
     "metadata": {
      "needs_background": "light"
     },
     "output_type": "display_data"
    },
    {
     "name": "stdout",
     "output_type": "stream",
     "text": [
      "[15876, 31560, 28298, 37638, 64208, 35038, 30754, 35114, 52704, 58284, 55336, 12472, 22286, 1718, 61350, 69508, 49036, 32264, 38458, 15996, 37574, 25000, 9752, 7624, 42266, 19338, 37574, 17384, 7886, 86958, 17690, 31334, 63738, 56406, 4354, 29872, 26762, 15558, 41004, 44782, 6638, 1792, 5330, 17852, 8388, 8130, 12524, 3640, 12142, 5402, 1670, 17514, 5270, 4644, 6070, 1532, 3576, 7692, 6630, 2198, 2936, 2704, 2144, 4362, 3056, 1792, 1186, 2646, 3338, 4998, 1822, 292, 2920, 934, 1378, 692, 644, 1062, 902, 1006, 736, 2146, 866, 1190, 372, 1698, 1056, 162, 866, 522, 780, 406, 196, 882, 210, 218, 208, 390, 512, 122, 132, 138, 142, 128, 118, 116, 118, 118, 118, 106, 128, 116, 114, 124, 110, 112, 116, 114, 118, 108, 116, 124, 104, 110, 118, 112, 108, 112, 114, 130, 114, 110, 126, 112, 126, 112, 116, 114, 116, 104, 104, 114, 120, 112, 110, 118, 116, 120, 108, 106, 120, 120, 114, 118, 118, 120, 110, 118, 112, 118, 124, 116, 116, 114, 116, 118, 106, 112, 108, 114, 108, 120, 106, 108, 114, 118, 124, 112, 114, 116, 104, 116, 114, 112, 120, 122, 112, 118, 110, 120, 112, 126, 108, 112, 116, 112, 108, 114, 114, 106, 110, 122, 106, 118, 122, 102, 118, 108, 116, 112, 116, 114, 110, 114, 118, 118, 112, 120, 128, 114, 112, 114, 114, 110, 122, 112, 116, 114, 116, 112, 110, 116, 108, 112, 126, 118, 110, 116, 106, 114, 106, 114, 116, 112, 116, 110, 118, 120, 114, 116, 112, 120, 118, 112, 108, 110, 114, 116, 120, 114, 120, 114, 116, 122, 114, 110, 114, 114, 110, 114, 110, 116, 108, 110, 114, 118, 110, 112, 114, 122, 114, 106, 116, 116, 120, 112, 118, 112, 116, 112, 108, 116, 112, 122, 114, 110, 118, 118, 114, 108, 122, 106, 116, 114, 114, 106, 116, 114, 118, 124, 112, 116, 108, 122, 122, 112, 114, 126, 114, 122, 110, 120, 122, 112, 118, 114, 130, 110, 114, 120, 108, 114, 112, 120, 124, 116, 108, 114, 114, 116, 118, 128, 104, 116, 112, 116, 108, 112, 116, 116, 106, 112, 114, 116, 112, 118, 108, 110, 114, 118, 108, 112, 116, 114, 120, 110, 110, 110, 106, 112, 114, 116, 102, 122, 132, 108, 118, 116, 108, 132, 114, 120, 120, 118, 122, 110, 106, 104, 114, 116, 106, 114, 124, 112, 104, 118, 104, 118, 110, 112, 122, 124, 108, 122, 122, 114, 122, 118, 110, 114, 118, 122, 130, 126, 112, 118, 116, 106, 126, 118, 116, 112, 118, 118, 116, 118, 116, 114, 108, 130, 126, 120, 114, 116, 120, 108, 108, 112, 118, 108, 110, 110, 106, 116, 116, 116, 108, 114, 118, 120, 124, 102, 124, 120, 112, 112, 106, 116, 120, 112, 112, 116, 110, 118, 118, 116, 112, 112, 120, 104, 116, 124, 120, 114, 120, 118, 116, 122, 112, 110, 106, 110, 106, 118, 118, 104, 116, 110, 114, 456, 106, 112, 110, 118, 118, 116, 108, 114, 112, 130]\n"
     ]
    }
   ],
   "source": [
    "Q_learning_V_result = Q_learning()"
   ]
  },
  {
   "cell_type": "markdown",
   "metadata": {},
   "source": [
    "# if you want to test simple maze, please run this module"
   ]
  },
  {
   "cell_type": "code",
   "execution_count": null,
   "metadata": {},
   "outputs": [],
   "source": [
    "# for simple maze, we do not need to output a csv file to get the accuracy result, we can simplely print it\n",
    "\n",
    "for i in range(len(maze)):\n",
    "    for j in range(len(maze[1])):\n",
    "        Q_learning_V_result[i, j] = decimal.Decimal(Q_learning_V_result[i,j]).quantize(decimal.Decimal(\"0.001\"))\n",
    "print(Q_learning_V_result)"
   ]
  },
  {
   "cell_type": "markdown",
   "metadata": {},
   "source": [
    "# if you want to test complex maze and get the final csv result, please run this module, and please **do not run** the upper simple mudule, otherwise you cannot get precise result"
   ]
  },
  {
   "cell_type": "code",
   "execution_count": 8,
   "metadata": {},
   "outputs": [],
   "source": [
    "# for complex maze, we need to output a csv file to get the accuracy result\n",
    "# if you choose complex maze, please run this module\n",
    "\n",
    "for i in range(len(maze)):\n",
    "  for j in range(len(maze[1])):\n",
    "      Q_learning_V_result[i,j] = decimal.Decimal(Q_learning_V_result[i,j]).quantize(decimal.Decimal(\"0.0000000000000000000000000001\"))\n",
    "\n",
    "# output csv file\n",
    "\n",
    "column = np.arange(38)\n",
    "Q_learning_V_RESULT = pd.DataFrame(columns = column, data = Q_learning_V_result)\n",
    "Q_learning_V_RESULT.to_csv('Q_learning_complex_maze_result.csv')"
   ]
  }
 ],
 "metadata": {
  "kernelspec": {
   "display_name": "Python 3.9.7 ('sklearn-env')",
   "language": "python",
   "name": "python3"
  },
  "language_info": {
   "codemirror_mode": {
    "name": "ipython",
    "version": 3
   },
   "file_extension": ".py",
   "mimetype": "text/x-python",
   "name": "python",
   "nbconvert_exporter": "python",
   "pygments_lexer": "ipython3",
   "version": "3.9.7"
  },
  "orig_nbformat": 4,
  "vscode": {
   "interpreter": {
    "hash": "8813998d5ecce17ed91e012fe29b3a7c2089f4157e199529a0ecd692b44d3643"
   }
  }
 },
 "nbformat": 4,
 "nbformat_minor": 2
}
